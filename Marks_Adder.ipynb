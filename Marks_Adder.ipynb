{
  "nbformat": 4,
  "nbformat_minor": 0,
  "metadata": {
    "colab": {
      "provenance": [],
      "include_colab_link": true
    },
    "kernelspec": {
      "name": "python3",
      "display_name": "Python 3"
    },
    "language_info": {
      "name": "python"
    }
  },
  "cells": [
    {
      "cell_type": "markdown",
      "metadata": {
        "id": "view-in-github",
        "colab_type": "text"
      },
      "source": [
        "<a href=\"https://colab.research.google.com/github/Harsimran-Dalal/Mini-Project-Marks-Adding/blob/main/Marks_Adder.ipynb\" target=\"_parent\"><img src=\"https://colab.research.google.com/assets/colab-badge.svg\" alt=\"Open In Colab\"/></a>"
      ]
    },
    {
      "cell_type": "markdown",
      "source": [
        "# Marks Adding\n",
        "\n",
        "### You have a CSV file containing roll numbers and corresponding marks. Some roll numbers may appear multiple times in the file, each time with a mark. Your task is to aggregate these marks for each roll number and produce a new CSV file where each roll number appears only once with its total aggregated marks."
      ],
      "metadata": {
        "id": "83p9wJqFm8JM"
      }
    },
    {
      "cell_type": "markdown",
      "source": [
        "## Solution\n",
        "\n",
        "This code uses the csv library to read and write csv files\n",
        "\n",
        "### 1.1 Library Inclusion\n",
        "\n",
        "```\n",
        "import csv\n",
        "```\n",
        "\n",
        "### 1.2 Function definition\n",
        "\n",
        "```\n",
        "def aggregrateMarks(inputFile, outputFile):\n",
        "```\n",
        "\n",
        "### 1.3 Initializing Dictionary\n",
        "\n",
        "```\n",
        "rollMarks = {}\n",
        "```\n",
        "\n",
        "### 1.4 Reading inoput csv file\n",
        "\n",
        "```\n",
        "  with open(inputFile, 'r') as csvFile:\n",
        "    reader = csv.reader(csvFile)\n",
        "\n",
        "    for row in reader:\n",
        "\n",
        "          rollNumber = row[0]\n",
        "\n",
        "          try:\n",
        "            marks = int(row[1])\n",
        "          except ValueError:\n",
        "            continue\n",
        "\n",
        "          if rollNumber in rollMarks:\n",
        "            rollMarks[rollNumber] +=marks\n",
        "\n",
        "          else:\n",
        "            rollMarks[rollNumber] = marks\n",
        "```\n",
        "\n",
        "Explanation:\n",
        "* The csv.reader object reader is utilized to iterate over each row in the CSV file opened with `open(inputFile, 'r')`.\n",
        "\n",
        "* A try-except block is employed to convert marks to an integer `(int(row[1]))`, handling cases where non-numeric values might be encountered within the CSV file.\n",
        "\n",
        "### 1.5 Writing Output CSV File\n",
        "\n",
        "```\n",
        "with open(outputFile, 'w', newline = '') as csvFile:\n",
        "    writer = csv.writer(csvFile)\n",
        "    for rollNumber, totalMarks in rollMarks.items():\n",
        "      writer.writerow([rollNumber, totalMarks])\n",
        "```\n",
        "\n",
        "\n",
        "Explanation:\n",
        "\n",
        "* The csv.writer object writer is used to write data to the outputFile opened with open`(outputFile, 'w', newline='')`.\n",
        "* The for loop iterates over the items of the `rollMarks` dictionary, where members of the dictionary are stored as the `rollNumber` and `totalMarks` pair is written to the CSV file using `writer.writerow([rollNumber, totalMarks])`.\n",
        "\n",
        "`[rollNumber, totalMarks]` is a list which is passed to the `writer.writerow()` function and it converts the list into csv rows accordingly\n",
        "\n",
        "* Specifying `newline=''` ensures that each row in  the CSV file ends with a single newline character `('\\n')`, maintaining consistent formatting across different platforms and preventing unintended line breaks or spacing issues.\n",
        "\n"
      ],
      "metadata": {
        "id": "FwZCfE5MZ0T6"
      }
    },
    {
      "cell_type": "code",
      "source": [
        "import csv\n",
        "\n",
        "def aggregrateMarks(inputFile, outputFile):\n",
        "  rollMarks = {}\n",
        "\n",
        "  with open(inputFile, 'r') as csvFile:\n",
        "    reader = csv.reader(csvFile)\n",
        "\n",
        "    for row in reader:\n",
        "\n",
        "      rollNumber = row[0]\n",
        "\n",
        "      try:\n",
        "        marks = int(row[1])\n",
        "      except ValueError:\n",
        "\n",
        "        continue\n",
        "\n",
        "      if rollNumber in rollMarks:\n",
        "        rollMarks[rollNumber] +=marks\n",
        "\n",
        "      else:\n",
        "        rollMarks[rollNumber] = marks\n",
        "\n",
        "  with open(outputFile, 'w', newline = '') as csvFile:\n",
        "    writer = csv.writer(csvFile)\n",
        "    writer.writerow(['Roll Number', 'Total Marks'])\n",
        "    for rollNumber, totalMarks in rollMarks.items():\n",
        "      writer.writerow([rollNumber, totalMarks])\n",
        "\n",
        "if __name__ == '__main__':\n",
        "  aggregrateMarks('Marks Adding.csv', 'Aggregated Marks.csv')"
      ],
      "metadata": {
        "id": "zjWGYRxvm6MC"
      },
      "execution_count": 1,
      "outputs": []
    }
  ]
}